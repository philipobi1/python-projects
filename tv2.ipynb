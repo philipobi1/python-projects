{
 "cells": [
  {
   "cell_type": "code",
   "execution_count": 1,
   "metadata": {},
   "outputs": [],
   "source": [
    "from sympy import symbols\n",
    "from fehler import gauss,minmax"
   ]
  },
  {
   "cell_type": "code",
   "execution_count": 2,
   "metadata": {},
   "outputs": [],
   "source": [
    "c_w,m_z,m_z1,m_w,theta_m,theta_k,theta_s,m_s=symbols('c_w,m_z,m_z1,m_w,theta_m,theta_k,theta_s,m_s')\n",
    "c_s=(c_w*(m_z-m_z1+m_w)*(theta_m-theta_k))/(m_s*(theta_s-theta_m))"
   ]
  },
  {
   "cell_type": "code",
   "execution_count": 3,
   "metadata": {},
   "outputs": [],
   "source": [
    "#messwerte\n",
    "\n",
    "#aluminium\n",
    "values_al = {\n",
    "    c_w:(4180,0),\n",
    "    m_z:(1.1120,0.0001),\n",
    "    m_z1:(0.3069,0.0001),\n",
    "    m_w:(0.080,0),\n",
    "    m_s:(0.4838,0.0001),\n",
    "    theta_m:(30.6,0.4),\n",
    "    theta_k:(25.0,0.003*25.0+1),\n",
    "    theta_s:(75.5,0.003*75.5+1)\n",
    "}\n",
    "\n",
    "#blei\n",
    "values_pb = {\n",
    "    c_w:(4180,0),\n",
    "    m_z:(1.1103,0.0001),\n",
    "    m_z1:(0.3064,0.0001),\n",
    "    m_w:(0.080,0),\n",
    "    m_s:(1.9274,0.0001),\n",
    "    theta_m:(28.02,0.20),\n",
    "    theta_k:(24.7,0.003*24.7+1),\n",
    "    theta_s:(77.5,0.003*77.5+1)\n",
    "}"
   ]
  },
  {
   "cell_type": "markdown",
   "metadata": {},
   "source": [
    "Aluminium"
   ]
  },
  {
   "cell_type": "code",
   "execution_count": 4,
   "metadata": {},
   "outputs": [
    {
     "data": {
      "text/latex": [
       "$\\text{ \\Large Fehlerbestimmung mit der Gauß-Fehlerfortpflanzungsformel}$"
      ],
      "text/plain": [
       "<IPython.core.display.Latex object>"
      ]
     },
     "metadata": {},
     "output_type": "display_data"
    },
    {
     "data": {
      "text/latex": [
       "$c_{w} = 4180,\\quad\\Delta c_{w} = 0$"
      ],
      "text/plain": [
       "<IPython.core.display.Latex object>"
      ]
     },
     "metadata": {},
     "output_type": "display_data"
    },
    {
     "data": {
      "text/latex": [
       "$m_{z} = 1.112,\\quad\\Delta m_{z} = 0.0001$"
      ],
      "text/plain": [
       "<IPython.core.display.Latex object>"
      ]
     },
     "metadata": {},
     "output_type": "display_data"
    },
    {
     "data": {
      "text/latex": [
       "$m_{z1} = 0.3069,\\quad\\Delta m_{z1} = 0.0001$"
      ],
      "text/plain": [
       "<IPython.core.display.Latex object>"
      ]
     },
     "metadata": {},
     "output_type": "display_data"
    },
    {
     "data": {
      "text/latex": [
       "$m_{w} = 0.08,\\quad\\Delta m_{w} = 0$"
      ],
      "text/plain": [
       "<IPython.core.display.Latex object>"
      ]
     },
     "metadata": {},
     "output_type": "display_data"
    },
    {
     "data": {
      "text/latex": [
       "$m_{s} = 0.4838,\\quad\\Delta m_{s} = 0.0001$"
      ],
      "text/plain": [
       "<IPython.core.display.Latex object>"
      ]
     },
     "metadata": {},
     "output_type": "display_data"
    },
    {
     "data": {
      "text/latex": [
       "$\\theta_{m} = 30.6,\\quad\\Delta \\theta_{m} = 0.4$"
      ],
      "text/plain": [
       "<IPython.core.display.Latex object>"
      ]
     },
     "metadata": {},
     "output_type": "display_data"
    },
    {
     "data": {
      "text/latex": [
       "$\\theta_{k} = 25.0,\\quad\\Delta \\theta_{k} = 1.075$"
      ],
      "text/plain": [
       "<IPython.core.display.Latex object>"
      ]
     },
     "metadata": {},
     "output_type": "display_data"
    },
    {
     "data": {
      "text/latex": [
       "$\\theta_{s} = 75.5,\\quad\\Delta \\theta_{s} = 1.2265$"
      ],
      "text/plain": [
       "<IPython.core.display.Latex object>"
      ]
     },
     "metadata": {},
     "output_type": "display_data"
    },
    {
     "data": {
      "text/latex": [
       "$c_s(\\theta_{k},m_{s},m_{w},c_{w},\\theta_{m},m_{z},m_{z1},\\theta_{s}) = \\frac{c_{w} \\left(- \\theta_{k} + \\theta_{m}\\right) \\left(m_{w} + m_{z} - m_{z1}\\right)}{m_{s} \\left(- \\theta_{m} + \\theta_{s}\\right)} = 953.771727351489$"
      ],
      "text/plain": [
       "<IPython.core.display.Latex object>"
      ]
     },
     "metadata": {},
     "output_type": "display_data"
    },
    {
     "data": {
      "text/latex": [
       "$\\frac{\\partial c_s}{\\partial \\theta_{k}} = \\frac{c_{w} \\left(m_{w} + m_{z} - m_{z1}\\right)}{m_{s} \\left(\\theta_{m} - \\theta_{s}\\right)} = -170.316379884194$"
      ],
      "text/plain": [
       "<IPython.core.display.Latex object>"
      ]
     },
     "metadata": {},
     "output_type": "display_data"
    },
    {
     "data": {
      "text/latex": [
       "$\\frac{\\partial c_s}{\\partial m_{s}} = - \\frac{c_{w} \\left(\\theta_{k} - \\theta_{m}\\right) \\left(m_{w} + m_{z} - m_{z1}\\right)}{m_{s}^{2} \\left(\\theta_{m} - \\theta_{s}\\right)} = -1971.41737774181$"
      ],
      "text/plain": [
       "<IPython.core.display.Latex object>"
      ]
     },
     "metadata": {},
     "output_type": "display_data"
    },
    {
     "data": {
      "text/latex": [
       "$\\frac{\\partial c_s}{\\partial m_{w}} = \\frac{c_{w} \\left(\\theta_{k} - \\theta_{m}\\right)}{m_{s} \\left(\\theta_{m} - \\theta_{s}\\right)} = 1077.58640532312$"
      ],
      "text/plain": [
       "<IPython.core.display.Latex object>"
      ]
     },
     "metadata": {},
     "output_type": "display_data"
    },
    {
     "data": {
      "text/latex": [
       "$\\frac{\\partial c_s}{\\partial c_{w}} = \\frac{\\left(\\theta_{k} - \\theta_{m}\\right) \\left(m_{w} + m_{z} - m_{z1}\\right)}{m_{s} \\left(\\theta_{m} - \\theta_{s}\\right)} = 0.228175054390308$"
      ],
      "text/plain": [
       "<IPython.core.display.Latex object>"
      ]
     },
     "metadata": {},
     "output_type": "display_data"
    },
    {
     "data": {
      "text/latex": [
       "$\\frac{\\partial c_s}{\\partial \\theta_{m}} = \\frac{c_{w} \\left(- \\theta_{k} + \\theta_{s}\\right) \\left(m_{w} + m_{z} - m_{z1}\\right)}{m_{s} \\left(\\theta_{m} - \\theta_{s}\\right)^{2}} = 191.558511896477$"
      ],
      "text/plain": [
       "<IPython.core.display.Latex object>"
      ]
     },
     "metadata": {},
     "output_type": "display_data"
    },
    {
     "data": {
      "text/latex": [
       "$\\frac{\\partial c_s}{\\partial m_{z}} = \\frac{c_{w} \\left(\\theta_{k} - \\theta_{m}\\right)}{m_{s} \\left(\\theta_{m} - \\theta_{s}\\right)} = 1077.58640532312$"
      ],
      "text/plain": [
       "<IPython.core.display.Latex object>"
      ]
     },
     "metadata": {},
     "output_type": "display_data"
    },
    {
     "data": {
      "text/latex": [
       "$\\frac{\\partial c_s}{\\partial m_{z1}} = \\frac{c_{w} \\left(- \\theta_{k} + \\theta_{m}\\right)}{m_{s} \\left(\\theta_{m} - \\theta_{s}\\right)} = -1077.58640532312$"
      ],
      "text/plain": [
       "<IPython.core.display.Latex object>"
      ]
     },
     "metadata": {},
     "output_type": "display_data"
    },
    {
     "data": {
      "text/latex": [
       "$\\frac{\\partial c_s}{\\partial \\theta_{s}} = \\frac{c_{w} \\left(\\theta_{k} - \\theta_{m}\\right) \\left(m_{w} + m_{z} - m_{z1}\\right)}{m_{s} \\left(\\theta_{m} - \\theta_{s}\\right)^{2}} = -21.2421320122826$"
      ],
      "text/plain": [
       "<IPython.core.display.Latex object>"
      ]
     },
     "metadata": {},
     "output_type": "display_data"
    },
    {
     "data": {
      "text/latex": [
       "$\\Delta c_s(\\vec x) = \\sqrt{\\sum_{i}(\\left. \\frac{\\partial c_s(\\vec x)}{\\partial x_i} \\right|_{\\vec x = \\vec x_0} \\Delta x_i)^2} = \\sqrt{\\frac{\\Delta m_{s}^{2} c_{w}^{2} \\left(\\theta_{k} - \\theta_{m}\\right)^{2} \\left(\\theta_{m} - \\theta_{s}\\right)^{2} \\left(m_{w} + m_{z} - m_{z1}\\right)^{2} + c_{w}^{2} m_{s}^{2} \\left(\\Delta \\theta_{m}^{2} \\left(\\theta_{k} - \\theta_{s}\\right)^{2} + \\Delta \\theta_{s}^{2} \\left(\\theta_{k} - \\theta_{m}\\right)^{2}\\right) \\left(m_{w} + m_{z} - m_{z1}\\right)^{2} + m_{s}^{2} \\left(\\theta_{m} - \\theta_{s}\\right)^{2} \\left(\\Delta \\theta_{k}^{2} c_{w}^{2} \\left(m_{w} + m_{z} - m_{z1}\\right)^{2} + \\Delta c_{w}^{2} \\left(\\theta_{k} - \\theta_{m}\\right)^{2} \\left(m_{w} + m_{z} - m_{z1}\\right)^{2} + \\Delta m_{w}^{2} c_{w}^{2} \\left(\\theta_{k} - \\theta_{m}\\right)^{2} + \\Delta m_{z1}^{2} c_{w}^{2} \\left(\\theta_{k} - \\theta_{m}\\right)^{2} + \\Delta m_{z}^{2} c_{w}^{2} \\left(\\theta_{k} - \\theta_{m}\\right)^{2}\\right)}{m_{s}^{4} \\left(\\theta_{m} - \\theta_{s}\\right)^{4}}} = 200.179868082468$"
      ],
      "text/plain": [
       "<IPython.core.display.Latex object>"
      ]
     },
     "metadata": {},
     "output_type": "display_data"
    },
    {
     "data": {
      "text/latex": [
       "$\\text{\\Large Fehlerbestimmung mit der Min-Max-Methode}$"
      ],
      "text/plain": [
       "<IPython.core.display.Latex object>"
      ]
     },
     "metadata": {},
     "output_type": "display_data"
    },
    {
     "data": {
      "text/latex": [
       "$c_{w} = 4180,\\quad\\Delta c_{w} = 0$"
      ],
      "text/plain": [
       "<IPython.core.display.Latex object>"
      ]
     },
     "metadata": {},
     "output_type": "display_data"
    },
    {
     "data": {
      "text/latex": [
       "$m_{z} = 1.112,\\quad\\Delta m_{z} = 0.0001$"
      ],
      "text/plain": [
       "<IPython.core.display.Latex object>"
      ]
     },
     "metadata": {},
     "output_type": "display_data"
    },
    {
     "data": {
      "text/latex": [
       "$m_{z1} = 0.3069,\\quad\\Delta m_{z1} = 0.0001$"
      ],
      "text/plain": [
       "<IPython.core.display.Latex object>"
      ]
     },
     "metadata": {},
     "output_type": "display_data"
    },
    {
     "data": {
      "text/latex": [
       "$m_{w} = 0.08,\\quad\\Delta m_{w} = 0$"
      ],
      "text/plain": [
       "<IPython.core.display.Latex object>"
      ]
     },
     "metadata": {},
     "output_type": "display_data"
    },
    {
     "data": {
      "text/latex": [
       "$m_{s} = 0.4838,\\quad\\Delta m_{s} = 0.0001$"
      ],
      "text/plain": [
       "<IPython.core.display.Latex object>"
      ]
     },
     "metadata": {},
     "output_type": "display_data"
    },
    {
     "data": {
      "text/latex": [
       "$\\theta_{m} = 30.6,\\quad\\Delta \\theta_{m} = 0.4$"
      ],
      "text/plain": [
       "<IPython.core.display.Latex object>"
      ]
     },
     "metadata": {},
     "output_type": "display_data"
    },
    {
     "data": {
      "text/latex": [
       "$\\theta_{k} = 25.0,\\quad\\Delta \\theta_{k} = 1.075$"
      ],
      "text/plain": [
       "<IPython.core.display.Latex object>"
      ]
     },
     "metadata": {},
     "output_type": "display_data"
    },
    {
     "data": {
      "text/latex": [
       "$\\theta_{s} = 75.5,\\quad\\Delta \\theta_{s} = 1.2265$"
      ],
      "text/plain": [
       "<IPython.core.display.Latex object>"
      ]
     },
     "metadata": {},
     "output_type": "display_data"
    },
    {
     "data": {
      "text/latex": [
       "$c_s(\\theta_{k},m_{s},\\Delta m_{z},\\Delta \\theta_{s},c_{w},m_{w},\\theta_{m},\\Delta m_{s},m_{z},m_{z1},\\Delta \\theta_{k},\\Delta \\theta_{m},\\Delta m_{z1},\\theta_{s}) = \\frac{c_{w} \\left(- \\Delta \\theta_{k} + \\Delta \\theta_{m} - \\theta_{k} + \\theta_{m}\\right) \\left(- \\Delta m_{z1} + \\Delta m_{z} + m_{w} + m_{z} - m_{z1}\\right)}{\\left(\\Delta m_{s} + m_{s}\\right) \\left(- \\Delta \\theta_{m} + \\Delta \\theta_{s} - \\theta_{m} + \\theta_{s}\\right)} = 823.476622114259$"
      ],
      "text/plain": [
       "<IPython.core.display.Latex object>"
      ]
     },
     "metadata": {},
     "output_type": "display_data"
    },
    {
     "data": {
      "text/latex": [
       "${c_s}_{min} = \\frac{c_{w} \\left(- \\Delta \\theta_{k} - \\Delta \\theta_{m} - \\theta_{k} + \\theta_{m}\\right) \\left(- \\Delta m_{z1} - \\Delta m_{z} + m_{w} + m_{z} - m_{z1}\\right)}{\\left(\\Delta m_{s} + m_{s}\\right) \\left(\\Delta \\theta_{m} + \\Delta \\theta_{s} - \\theta_{m} + \\theta_{s}\\right)} = 677.701464442176 \\quad (Kombination: - \\Delta m_{z}, \\quad\\Delta m_{z1}, \\quad\\Delta m_{s}, \\quad- \\Delta \\theta_{m}, \\quad\\Delta \\theta_{k}, \\quad\\Delta \\theta_{s})$"
      ],
      "text/plain": [
       "<IPython.core.display.Latex object>"
      ]
     },
     "metadata": {},
     "output_type": "display_data"
    },
    {
     "data": {
      "text/latex": [
       "${c_s}_{max} = \\frac{c_{w} \\left(\\Delta \\theta_{k} + \\Delta \\theta_{m} - \\theta_{k} + \\theta_{m}\\right) \\left(\\Delta m_{z1} + \\Delta m_{z} + m_{w} + m_{z} - m_{z1}\\right)}{\\left(- \\Delta m_{s} + m_{s}\\right) \\left(- \\Delta \\theta_{m} - \\Delta \\theta_{s} - \\theta_{m} + \\theta_{s}\\right)} = 1250.82075824394 \\quad (Kombination: \\Delta m_{z}, \\quad- \\Delta m_{z1}, \\quad- \\Delta m_{s}, \\quad\\Delta \\theta_{m}, \\quad- \\Delta \\theta_{k}, \\quad- \\Delta \\theta_{s})$"
      ],
      "text/plain": [
       "<IPython.core.display.Latex object>"
      ]
     },
     "metadata": {},
     "output_type": "display_data"
    }
   ],
   "source": [
    "gauss(c_s,values=values_al,eq_symbol='c_s')\n",
    "minmax(c_s,values_al,eq_symbol='c_s')"
   ]
  },
  {
   "cell_type": "markdown",
   "metadata": {},
   "source": [
    "Blei"
   ]
  },
  {
   "cell_type": "code",
   "execution_count": 5,
   "metadata": {},
   "outputs": [
    {
     "data": {
      "text/latex": [
       "$\\text{ \\Large Fehlerbestimmung mit der Gauß-Fehlerfortpflanzungsformel}$"
      ],
      "text/plain": [
       "<IPython.core.display.Latex object>"
      ]
     },
     "metadata": {},
     "output_type": "display_data"
    },
    {
     "data": {
      "text/latex": [
       "$c_{w} = 4180,\\quad\\Delta c_{w} = 0$"
      ],
      "text/plain": [
       "<IPython.core.display.Latex object>"
      ]
     },
     "metadata": {},
     "output_type": "display_data"
    },
    {
     "data": {
      "text/latex": [
       "$m_{z} = 1.1103,\\quad\\Delta m_{z} = 0.0001$"
      ],
      "text/plain": [
       "<IPython.core.display.Latex object>"
      ]
     },
     "metadata": {},
     "output_type": "display_data"
    },
    {
     "data": {
      "text/latex": [
       "$m_{z1} = 0.3064,\\quad\\Delta m_{z1} = 0.0001$"
      ],
      "text/plain": [
       "<IPython.core.display.Latex object>"
      ]
     },
     "metadata": {},
     "output_type": "display_data"
    },
    {
     "data": {
      "text/latex": [
       "$m_{w} = 0.08,\\quad\\Delta m_{w} = 0$"
      ],
      "text/plain": [
       "<IPython.core.display.Latex object>"
      ]
     },
     "metadata": {},
     "output_type": "display_data"
    },
    {
     "data": {
      "text/latex": [
       "$m_{s} = 1.9274,\\quad\\Delta m_{s} = 0.0001$"
      ],
      "text/plain": [
       "<IPython.core.display.Latex object>"
      ]
     },
     "metadata": {},
     "output_type": "display_data"
    },
    {
     "data": {
      "text/latex": [
       "$\\theta_{m} = 28.02,\\quad\\Delta \\theta_{m} = 0.2$"
      ],
      "text/plain": [
       "<IPython.core.display.Latex object>"
      ]
     },
     "metadata": {},
     "output_type": "display_data"
    },
    {
     "data": {
      "text/latex": [
       "$\\theta_{k} = 24.7,\\quad\\Delta \\theta_{k} = 1.0741$"
      ],
      "text/plain": [
       "<IPython.core.display.Latex object>"
      ]
     },
     "metadata": {},
     "output_type": "display_data"
    },
    {
     "data": {
      "text/latex": [
       "$\\theta_{s} = 77.5,\\quad\\Delta \\theta_{s} = 1.2325$"
      ],
      "text/plain": [
       "<IPython.core.display.Latex object>"
      ]
     },
     "metadata": {},
     "output_type": "display_data"
    },
    {
     "data": {
      "text/latex": [
       "$c_s(\\theta_{k},m_{s},m_{w},c_{w},\\theta_{m},m_{z},m_{z1},\\theta_{s}) = \\frac{c_{w} \\left(- \\theta_{k} + \\theta_{m}\\right) \\left(m_{w} + m_{z} - m_{z1}\\right)}{m_{s} \\left(- \\theta_{m} + \\theta_{s}\\right)} = 128.622205963290$"
      ],
      "text/plain": [
       "<IPython.core.display.Latex object>"
      ]
     },
     "metadata": {},
     "output_type": "display_data"
    },
    {
     "data": {
      "text/latex": [
       "$\\frac{\\partial c_s}{\\partial \\theta_{k}} = \\frac{c_{w} \\left(m_{w} + m_{z} - m_{z1}\\right)}{m_{s} \\left(\\theta_{m} - \\theta_{s}\\right)} = -38.7416283021959$"
      ],
      "text/plain": [
       "<IPython.core.display.Latex object>"
      ]
     },
     "metadata": {},
     "output_type": "display_data"
    },
    {
     "data": {
      "text/latex": [
       "$\\frac{\\partial c_s}{\\partial m_{s}} = - \\frac{c_{w} \\left(\\theta_{k} - \\theta_{m}\\right) \\left(m_{w} + m_{z} - m_{z1}\\right)}{m_{s}^{2} \\left(\\theta_{m} - \\theta_{s}\\right)} = -66.7335301251896$"
      ],
      "text/plain": [
       "<IPython.core.display.Latex object>"
      ]
     },
     "metadata": {},
     "output_type": "display_data"
    },
    {
     "data": {
      "text/latex": [
       "$\\frac{\\partial c_s}{\\partial m_{w}} = \\frac{c_{w} \\left(\\theta_{k} - \\theta_{m}\\right)}{m_{s} \\left(\\theta_{m} - \\theta_{s}\\right)} = 145.516694154645$"
      ],
      "text/plain": [
       "<IPython.core.display.Latex object>"
      ]
     },
     "metadata": {},
     "output_type": "display_data"
    },
    {
     "data": {
      "text/latex": [
       "$\\frac{\\partial c_s}{\\partial c_{w}} = \\frac{\\left(\\theta_{k} - \\theta_{m}\\right) \\left(m_{w} + m_{z} - m_{z1}\\right)}{m_{s} \\left(\\theta_{m} - \\theta_{s}\\right)} = 0.0307708626706436$"
      ],
      "text/plain": [
       "<IPython.core.display.Latex object>"
      ]
     },
     "metadata": {},
     "output_type": "display_data"
    },
    {
     "data": {
      "text/latex": [
       "$\\frac{\\partial c_s}{\\partial \\theta_{m}} = \\frac{c_{w} \\left(- \\theta_{k} + \\theta_{s}\\right) \\left(m_{w} + m_{z} - m_{z1}\\right)}{m_{s} \\left(\\theta_{m} - \\theta_{s}\\right)^{2}} = 41.3411069999180$"
      ],
      "text/plain": [
       "<IPython.core.display.Latex object>"
      ]
     },
     "metadata": {},
     "output_type": "display_data"
    },
    {
     "data": {
      "text/latex": [
       "$\\frac{\\partial c_s}{\\partial m_{z}} = \\frac{c_{w} \\left(\\theta_{k} - \\theta_{m}\\right)}{m_{s} \\left(\\theta_{m} - \\theta_{s}\\right)} = 145.516694154645$"
      ],
      "text/plain": [
       "<IPython.core.display.Latex object>"
      ]
     },
     "metadata": {},
     "output_type": "display_data"
    },
    {
     "data": {
      "text/latex": [
       "$\\frac{\\partial c_s}{\\partial m_{z1}} = \\frac{c_{w} \\left(- \\theta_{k} + \\theta_{m}\\right)}{m_{s} \\left(\\theta_{m} - \\theta_{s}\\right)} = -145.516694154645$"
      ],
      "text/plain": [
       "<IPython.core.display.Latex object>"
      ]
     },
     "metadata": {},
     "output_type": "display_data"
    },
    {
     "data": {
      "text/latex": [
       "$\\frac{\\partial c_s}{\\partial \\theta_{s}} = \\frac{c_{w} \\left(\\theta_{k} - \\theta_{m}\\right) \\left(m_{w} + m_{z} - m_{z1}\\right)}{m_{s} \\left(\\theta_{m} - \\theta_{s}\\right)^{2}} = -2.59947869772212$"
      ],
      "text/plain": [
       "<IPython.core.display.Latex object>"
      ]
     },
     "metadata": {},
     "output_type": "display_data"
    },
    {
     "data": {
      "text/latex": [
       "$\\Delta c_s(\\vec x) = \\sqrt{\\sum_{i}(\\left. \\frac{\\partial c_s(\\vec x)}{\\partial x_i} \\right|_{\\vec x = \\vec x_0} \\Delta x_i)^2} = \\sqrt{\\frac{\\Delta m_{s}^{2} c_{w}^{2} \\left(\\theta_{k} - \\theta_{m}\\right)^{2} \\left(\\theta_{m} - \\theta_{s}\\right)^{2} \\left(m_{w} + m_{z} - m_{z1}\\right)^{2} + c_{w}^{2} m_{s}^{2} \\left(\\Delta \\theta_{m}^{2} \\left(\\theta_{k} - \\theta_{s}\\right)^{2} + \\Delta \\theta_{s}^{2} \\left(\\theta_{k} - \\theta_{m}\\right)^{2}\\right) \\left(m_{w} + m_{z} - m_{z1}\\right)^{2} + m_{s}^{2} \\left(\\theta_{m} - \\theta_{s}\\right)^{2} \\left(\\Delta \\theta_{k}^{2} c_{w}^{2} \\left(m_{w} + m_{z} - m_{z1}\\right)^{2} + \\Delta c_{w}^{2} \\left(\\theta_{k} - \\theta_{m}\\right)^{2} \\left(m_{w} + m_{z} - m_{z1}\\right)^{2} + \\Delta m_{w}^{2} c_{w}^{2} \\left(\\theta_{k} - \\theta_{m}\\right)^{2} + \\Delta m_{z1}^{2} c_{w}^{2} \\left(\\theta_{k} - \\theta_{m}\\right)^{2} + \\Delta m_{z}^{2} c_{w}^{2} \\left(\\theta_{k} - \\theta_{m}\\right)^{2}\\right)}{m_{s}^{4} \\left(\\theta_{m} - \\theta_{s}\\right)^{4}}} = 42.5466693357032$"
      ],
      "text/plain": [
       "<IPython.core.display.Latex object>"
      ]
     },
     "metadata": {},
     "output_type": "display_data"
    },
    {
     "data": {
      "text/latex": [
       "$\\text{\\Large Fehlerbestimmung mit der Min-Max-Methode}$"
      ],
      "text/plain": [
       "<IPython.core.display.Latex object>"
      ]
     },
     "metadata": {},
     "output_type": "display_data"
    },
    {
     "data": {
      "text/latex": [
       "$c_{w} = 4180,\\quad\\Delta c_{w} = 0$"
      ],
      "text/plain": [
       "<IPython.core.display.Latex object>"
      ]
     },
     "metadata": {},
     "output_type": "display_data"
    },
    {
     "data": {
      "text/latex": [
       "$m_{z} = 1.1103,\\quad\\Delta m_{z} = 0.0001$"
      ],
      "text/plain": [
       "<IPython.core.display.Latex object>"
      ]
     },
     "metadata": {},
     "output_type": "display_data"
    },
    {
     "data": {
      "text/latex": [
       "$m_{z1} = 0.3064,\\quad\\Delta m_{z1} = 0.0001$"
      ],
      "text/plain": [
       "<IPython.core.display.Latex object>"
      ]
     },
     "metadata": {},
     "output_type": "display_data"
    },
    {
     "data": {
      "text/latex": [
       "$m_{w} = 0.08,\\quad\\Delta m_{w} = 0$"
      ],
      "text/plain": [
       "<IPython.core.display.Latex object>"
      ]
     },
     "metadata": {},
     "output_type": "display_data"
    },
    {
     "data": {
      "text/latex": [
       "$m_{s} = 1.9274,\\quad\\Delta m_{s} = 0.0001$"
      ],
      "text/plain": [
       "<IPython.core.display.Latex object>"
      ]
     },
     "metadata": {},
     "output_type": "display_data"
    },
    {
     "data": {
      "text/latex": [
       "$\\theta_{m} = 28.02,\\quad\\Delta \\theta_{m} = 0.2$"
      ],
      "text/plain": [
       "<IPython.core.display.Latex object>"
      ]
     },
     "metadata": {},
     "output_type": "display_data"
    },
    {
     "data": {
      "text/latex": [
       "$\\theta_{k} = 24.7,\\quad\\Delta \\theta_{k} = 1.0741$"
      ],
      "text/plain": [
       "<IPython.core.display.Latex object>"
      ]
     },
     "metadata": {},
     "output_type": "display_data"
    },
    {
     "data": {
      "text/latex": [
       "$\\theta_{s} = 77.5,\\quad\\Delta \\theta_{s} = 1.2325$"
      ],
      "text/plain": [
       "<IPython.core.display.Latex object>"
      ]
     },
     "metadata": {},
     "output_type": "display_data"
    },
    {
     "data": {
      "text/latex": [
       "$c_s(\\theta_{k},m_{s},\\Delta m_{z},\\Delta \\theta_{s},c_{w},m_{w},\\theta_{m},\\Delta m_{s},m_{z},m_{z1},\\Delta \\theta_{k},\\Delta \\theta_{m},\\Delta m_{z1},\\theta_{s}) = \\frac{c_{w} \\left(- \\Delta \\theta_{k} + \\Delta \\theta_{m} - \\theta_{k} + \\theta_{m}\\right) \\left(- \\Delta m_{z1} + \\Delta m_{z} + m_{w} + m_{z} - m_{z1}\\right)}{\\left(\\Delta m_{s} + m_{s}\\right) \\left(- \\Delta \\theta_{m} + \\Delta \\theta_{s} - \\theta_{m} + \\theta_{s}\\right)} = 92.8164305163899$"
      ],
      "text/plain": [
       "<IPython.core.display.Latex object>"
      ]
     },
     "metadata": {},
     "output_type": "display_data"
    },
    {
     "data": {
      "text/latex": [
       "${c_s}_{min} = \\frac{c_{w} \\left(- \\Delta \\theta_{k} - \\Delta \\theta_{m} - \\theta_{k} + \\theta_{m}\\right) \\left(- \\Delta m_{z1} - \\Delta m_{z} + m_{w} + m_{z} - m_{z1}\\right)}{\\left(\\Delta m_{s} + m_{s}\\right) \\left(\\Delta \\theta_{m} + \\Delta \\theta_{s} - \\theta_{m} + \\theta_{s}\\right)} = 77.0099301180180 \\quad (Kombination: - \\Delta m_{z}, \\quad\\Delta m_{z1}, \\quad\\Delta m_{s}, \\quad- \\Delta \\theta_{m}, \\quad\\Delta \\theta_{k}, \\quad\\Delta \\theta_{s})$"
      ],
      "text/plain": [
       "<IPython.core.display.Latex object>"
      ]
     },
     "metadata": {},
     "output_type": "display_data"
    },
    {
     "data": {
      "text/latex": [
       "${c_s}_{max} = \\frac{c_{w} \\left(\\Delta \\theta_{k} + \\Delta \\theta_{m} - \\theta_{k} + \\theta_{m}\\right) \\left(\\Delta m_{z1} + \\Delta m_{z} + m_{w} + m_{z} - m_{z1}\\right)}{\\left(- \\Delta m_{s} + m_{s}\\right) \\left(- \\Delta \\theta_{m} - \\Delta \\theta_{s} - \\theta_{m} + \\theta_{s}\\right)} = 183.340326220518 \\quad (Kombination: \\Delta m_{z}, \\quad- \\Delta m_{z1}, \\quad- \\Delta m_{s}, \\quad\\Delta \\theta_{m}, \\quad- \\Delta \\theta_{k}, \\quad- \\Delta \\theta_{s})$"
      ],
      "text/plain": [
       "<IPython.core.display.Latex object>"
      ]
     },
     "metadata": {},
     "output_type": "display_data"
    }
   ],
   "source": [
    "gauss(c_s,values=values_pb,eq_symbol='c_s')\n",
    "minmax(c_s,values_pb,eq_symbol='c_s')"
   ]
  }
 ],
 "metadata": {
  "kernelspec": {
   "display_name": "Python 3.9.13 64-bit",
   "language": "python",
   "name": "python3"
  },
  "language_info": {
   "codemirror_mode": {
    "name": "ipython",
    "version": 3
   },
   "file_extension": ".py",
   "mimetype": "text/x-python",
   "name": "python",
   "nbconvert_exporter": "python",
   "pygments_lexer": "ipython3",
   "version": "3.9.13"
  },
  "orig_nbformat": 4,
  "vscode": {
   "interpreter": {
    "hash": "a665b5d41d17b532ea9890333293a1b812fa0b73c9c25c950b3cedf1bebd0438"
   }
  }
 },
 "nbformat": 4,
 "nbformat_minor": 2
}
